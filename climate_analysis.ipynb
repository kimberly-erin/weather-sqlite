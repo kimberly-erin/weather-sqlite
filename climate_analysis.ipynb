{
 "cells": [
  {
   "cell_type": "code",
   "execution_count": 1,
   "metadata": {},
   "outputs": [],
   "source": [
    "# Python SQL toolkit and Object Relational Mapper\n",
    "import sqlalchemy\n",
    "from sqlalchemy.ext.automap import automap_base\n",
    "from sqlalchemy.orm import Session\n",
    "from sqlalchemy import create_engine,func,desc\n",
    "\n",
    "import pandas as pd\n",
    "import numpy as np\n",
    "import matplotlib.pyplot as plt\n",
    "import datetime as dt"
   ]
  },
  {
   "cell_type": "code",
   "execution_count": 2,
   "metadata": {},
   "outputs": [
    {
     "data": {
      "text/plain": [
       "['measurements', 'stations']"
      ]
     },
     "execution_count": 2,
     "metadata": {},
     "output_type": "execute_result"
    }
   ],
   "source": [
    "engine = create_engine(\"sqlite:///hawaii_sqlite.db\")\n",
    "Base = automap_base()\n",
    "Base.prepare(engine, reflect=True)\n",
    "Base.classes.keys()"
   ]
  },
  {
   "cell_type": "code",
   "execution_count": 3,
   "metadata": {},
   "outputs": [],
   "source": [
    "Measurements = Base.classes.measurements\n",
    "Stations=Base.classes.stations"
   ]
  },
  {
   "cell_type": "code",
   "execution_count": 4,
   "metadata": {},
   "outputs": [],
   "source": [
    "session = Session(engine)"
   ]
  },
  {
   "cell_type": "code",
   "execution_count": 5,
   "metadata": {},
   "outputs": [],
   "source": [
    "dates = ['2017-01-18','2017-01-22']"
   ]
  },
  {
   "cell_type": "code",
   "execution_count": 6,
   "metadata": {},
   "outputs": [
    {
     "name": "stdout",
     "output_type": "stream",
     "text": [
      "(datetime.date(2017, 8, 23),)\n"
     ]
    }
   ],
   "source": [
    "latest_date=session.query(Measurements.date).order_by(Measurements.date.desc()).first()\n",
    "print(latest_date)"
   ]
  },
  {
   "cell_type": "code",
   "execution_count": 7,
   "metadata": {},
   "outputs": [],
   "source": [
    "query_date=dt.datetime(2017,8,23)-dt.timedelta(days=365)\n",
    "measure = session.query(Measurements).filter(Measurements.date >= query_date)\n",
    "\n",
    "dte=session.query(Measurements.date).filter(Measurements.date >= query_date)\n",
    "date_list = [r[0] for r in dte]\n",
    "prcp=session.query(Measurements.precipitation_tenths_of_mm).filter(Measurements.date >= query_date)\n",
    "prcp_list = [r[0] for r in prcp]\n"
   ]
  },
  {
   "cell_type": "code",
   "execution_count": 8,
   "metadata": {},
   "outputs": [
    {
     "data": {
      "text/html": [
       "<div>\n",
       "<style scoped>\n",
       "    .dataframe tbody tr th:only-of-type {\n",
       "        vertical-align: middle;\n",
       "    }\n",
       "\n",
       "    .dataframe tbody tr th {\n",
       "        vertical-align: top;\n",
       "    }\n",
       "\n",
       "    .dataframe thead th {\n",
       "        text-align: right;\n",
       "    }\n",
       "</style>\n",
       "<table border=\"1\" class=\"dataframe\">\n",
       "  <thead>\n",
       "    <tr style=\"text-align: right;\">\n",
       "      <th></th>\n",
       "      <th>Precipitation</th>\n",
       "    </tr>\n",
       "  </thead>\n",
       "  <tbody>\n",
       "    <tr>\n",
       "      <th>count</th>\n",
       "      <td>2015.000000</td>\n",
       "    </tr>\n",
       "    <tr>\n",
       "      <th>mean</th>\n",
       "      <td>0.176462</td>\n",
       "    </tr>\n",
       "    <tr>\n",
       "      <th>std</th>\n",
       "      <td>0.460288</td>\n",
       "    </tr>\n",
       "    <tr>\n",
       "      <th>min</th>\n",
       "      <td>0.000000</td>\n",
       "    </tr>\n",
       "    <tr>\n",
       "      <th>25%</th>\n",
       "      <td>0.000000</td>\n",
       "    </tr>\n",
       "    <tr>\n",
       "      <th>50%</th>\n",
       "      <td>0.020000</td>\n",
       "    </tr>\n",
       "    <tr>\n",
       "      <th>75%</th>\n",
       "      <td>0.130000</td>\n",
       "    </tr>\n",
       "    <tr>\n",
       "      <th>max</th>\n",
       "      <td>6.700000</td>\n",
       "    </tr>\n",
       "  </tbody>\n",
       "</table>\n",
       "</div>"
      ],
      "text/plain": [
       "       Precipitation\n",
       "count    2015.000000\n",
       "mean        0.176462\n",
       "std         0.460288\n",
       "min         0.000000\n",
       "25%         0.000000\n",
       "50%         0.020000\n",
       "75%         0.130000\n",
       "max         6.700000"
      ]
     },
     "execution_count": 8,
     "metadata": {},
     "output_type": "execute_result"
    }
   ],
   "source": [
    "prcp_df = pd.DataFrame({\"Date\":date_list, \"Precipitation\":prcp_list})\n",
    "prcp_df.set_index('Date')\n",
    "\n",
    "grouped_df=prcp_df.groupby([\"Date\"])\n",
    "grouped_dates = grouped_df[\"Precipitation\"].mean()\n",
    "\n",
    "prcp_grouped=pd.DataFrame({\"Precipitation\":grouped_dates})\n",
    "prcp_grouped.head()\n",
    "\n",
    "prcp_df.describe()"
   ]
  },
  {
   "cell_type": "code",
   "execution_count": 9,
   "metadata": {},
   "outputs": [
    {
     "data": {
      "image/png": "[encoded data removed]",
      "text/plain": [
       "<matplotlib.figure.Figure at 0x27dcd5209b0>"
      ]
     },
     "metadata": {},
     "output_type": "display_data"
    }
   ],
   "source": [
    "a = query_date\n",
    "dateList = []\n",
    "for x in np.arange(0,365,30):\n",
    "    x=float(x) #Datetime does not accept integers\n",
    "    if x == 0:\n",
    "        dateList.append(str(a.date()))\n",
    "    else:\n",
    "        dateList.append(str((a - dt.timedelta(days = x)).date()))\n",
    "\n",
    "\n",
    "bar=prcp_grouped.plot(kind=\"bar\")\n",
    "bar.set_xticks(np.arange(0,365,30))\n",
    "bar.set_xticklabels(dateList, rotation=45)\n",
    "\n",
    "plt.show()"
   ]
  },
  {
   "cell_type": "code",
   "execution_count": 15,
   "metadata": {},
   "outputs": [
    {
     "name": "stdout",
     "output_type": "stream",
     "text": [
      "Total number of weather stations: 9\n"
     ]
    }
   ],
   "source": [
    "station_count=session.query(Stations.name).count()\n",
    "print(f'Total number of weather stations: {station_count}')"
   ]
  },
  {
   "cell_type": "code",
   "execution_count": 11,
   "metadata": {},
   "outputs": [
    {
     "data": {
      "text/plain": [
       "[('USC00519281', 2772),\n",
       " ('USC00513117', 2696),\n",
       " ('USC00519397', 2685),\n",
       " ('USC00519523', 2572),\n",
       " ('USC00516128', 2484),\n",
       " ('USC00514830', 1937),\n",
       " ('USC00511918', 1932),\n",
       " ('USC00517948', 683),\n",
       " ('USC00518838', 342)]"
      ]
     },
     "execution_count": 11,
     "metadata": {},
     "output_type": "execute_result"
    }
   ],
   "source": [
    "session.query(Measurements.station, func.count(Measurements.temp_observed)).\\\n",
    "    group_by(Measurements.station).order_by(desc(func.count(Measurements.temp_observed))).all()\n"
   ]
  },
  {
   "cell_type": "code",
   "execution_count": 12,
   "metadata": {},
   "outputs": [
    {
     "name": "stdout",
     "output_type": "stream",
     "text": [
      "The most active station is USC00519281.\n"
     ]
    }
   ],
   "source": [
    "query_date=dt.datetime(2017,8,23)-dt.timedelta(days=365)\n",
    "\n",
    "most_active_station=session.query(Measurements.station).\\\n",
    "    group_by(Measurements.station).order_by(desc(func.count(Measurements.temp_observed))).first()[0]\n",
    "\n",
    "print(f'The most active station is {most_active_station}.')"
   ]
  },
  {
   "cell_type": "code",
   "execution_count": 13,
   "metadata": {},
   "outputs": [
    {
     "data": {
      "image/png": "[encoded data removed]",
      "text/plain": [
       "<matplotlib.figure.Figure at 0x27dcd4c7f28>"
      ]
     },
     "metadata": {},
     "output_type": "display_data"
    }
   ],
   "source": [
    "#* Design a query to retrieve the last 12 months of temperature observation data (tobs).\n",
    "  #* Filter by the station with the highest number of observations.\n",
    "  #* Plot the results as a histogram with `bins=12`.\n",
    "  #<center><img src='images/temp_hist.png' height=\"400px\" /></center>\n",
    "\n",
    "query_results=session.query(Measurements.date,Measurements.temp_observed).filter(Measurements.date >= query_date). \\\n",
    "                                                                filter(Measurements.station == most_active_station).all()\n",
    "temp_df=pd.DataFrame(query_results)\n",
    "\n",
    "temp_df.hist(bins=12)\n",
    "plt.show()"
   ]
  },
  {
   "cell_type": "code",
   "execution_count": 14,
   "metadata": {},
   "outputs": [
    {
     "name": "stdout",
     "output_type": "stream",
     "text": [
      "   min  max        avg\n",
      "0   61   77  68.826087\n"
     ]
    },
    {
     "data": {
      "image/png": "[encoded data removed]",
      "text/plain": [
       "<matplotlib.figure.Figure at 0x27dcec88978>"
      ]
     },
     "metadata": {},
     "output_type": "display_data"
    }
   ],
   "source": [
    "start_date=dt.datetime(2016,1,18)\n",
    "end_date=dt.datetime(2016,1,22)\n",
    "\n",
    "def calc_temps(start_date,end_date):\n",
    "    query_results=session.query(func.min(Measurements.temp_observed).label(\"min\"),\n",
    "                                func.max(Measurements.temp_observed).label(\"max\"),\n",
    "                                func.avg(Measurements.temp_observed).label(\"avg\")). \\\n",
    "                                filter(Measurements.date >= start_date). \\\n",
    "                                filter(Measurements.date <= end_date).all()\n",
    "        \n",
    "    temp_df=pd.DataFrame(query_results)\n",
    "    return temp_df\n",
    "\n",
    "my_data=calc_temps(start_date,end_date)\n",
    "\n",
    "print(my_data)\n",
    "\n",
    "my_plot=my_data[\"avg\"].plot(kind=\"bar\",yerr=my_data[\"max\"]-my_data[\"min\"],title=\"Trip Avg Temp\")\n",
    "my_plot.set_ylabel(\"Temp (F)\")\n",
    "plt.show()"
   ]
  },
  {
   "cell_type": "code",
   "execution_count": null,
   "metadata": {},
   "outputs": [],
   "source": []
  }
 ],
 "metadata": {
  "kernelspec": {
   "display_name": "Python [conda env:PythonData]",
   "language": "python",
   "name": "conda-env-PythonData-py"
  },
  "language_info": {
   "codemirror_mode": {
    "name": "ipython",
    "version": 3
   },
   "file_extension": ".py",
   "mimetype": "text/x-python",
   "name": "python",
   "nbconvert_exporter": "python",
   "pygments_lexer": "ipython3",
   "version": "3.6.4"
  }
 },
 "nbformat": 4,
 "nbformat_minor": 2
}
